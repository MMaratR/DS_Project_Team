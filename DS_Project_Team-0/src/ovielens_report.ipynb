{
 "cells": [
  {
   "cell_type": "code",
   "execution_count": 2,
   "metadata": {},
   "outputs": [],
   "source": [
    "import movielens_analysis as ma"
   ]
  },
  {
   "cell_type": "markdown",
   "metadata": {},
   "source": [
    "# Отчет"
   ]
  },
  {
   "cell_type": "markdown",
   "metadata": {},
   "source": [
    "## Фильмы. Movies"
   ]
  },
  {
   "cell_type": "code",
   "execution_count": 66,
   "metadata": {},
   "outputs": [],
   "source": [
    "movies_object = ma.Movies('./data/movies.csv')"
   ]
  },
  {
   "cell_type": "markdown",
   "metadata": {},
   "source": [
    "### dist_by_release"
   ]
  },
  {
   "cell_type": "markdown",
   "metadata": {},
   "source": [
    "Метод возвращает словарь или упорядоченный словарь, где ключами являются годы, а значениями — количество.\n",
    "Вам нужно извлечь годы из названий. Отсортируйте их по убыванию количества."
   ]
  },
  {
   "cell_type": "code",
   "execution_count": 67,
   "metadata": {},
   "outputs": [
    {
     "name": "stdout",
     "output_type": "stream",
     "text": [
      "{'2002': 311, '2006': 295, '2001': 294, '2007': 284, '2000': 283, '2009': 282, '2003': 279, '2004': 279, '2014': 278, '1996': 276, '2015': 274, '2005': 273, '2008': 269, '1999': 263, '1997': 260, '1995': 259, '1998': 258, '2011': 254, '2010': 247, '2013': 239, '1994': 237, '2012': 233, '2016': 218, '1993': 198, '1992': 167, '1988': 165, '1987': 153, '1990': 147, '1991': 147, '2017': 147, '1989': 142, '1986': 139, '1985': 126, '1984': 101, '1981': 92, '1980': 89, '1982': 87, '1983': 83, '1979': 69, '1977': 63, '1973': 59, '1978': 59, '1965': 47, '1971': 47, '1974': 45, '1976': 44, '1964': 43, '1967': 42, '1968': 42, '1975': 42, '1966': 42, '2018': 41, '1962': 40, '1972': 39, '1963': 39, '1959': 37, '1960': 37, '1955': 36, '1969': 35, '1961': 34, '1970': 33, '1957': 33, '1958': 31, '1953': 30, '1956': 30, '1940': 25, '1949': 25, '1954': 23, '1942': 23, '1939': 23, '1946': 23, '1951': 22, '1950': 21, '1947': 20, '1948': 20, '1941': 18, '1936': 18, '1945': 17, '1937': 16, '1952': 16, '1944': 16, '1938': 15, '1931': 14, '1935': 13, '1933': 12, '1934': 11, '1943': 10, '1932': 9, '1927': 7, '1930': 5, '1926': 5, '1924': 5, '1929': 4, '1928': 4, '1925': 4, '1923': 4, '1916': 4, '1920': 2, '1922': 1, '1919': 1, '1921': 1, '1915': 1, '1917': 1, '1902': 1, '1903': 1, '1908': 1}\n",
      "==========timeit==========\n",
      "12.54 ms ± 0 ns per loop (mean ± std. dev. of 1 run, 1 loop each)\n"
     ]
    }
   ],
   "source": [
    "%%timeit -n1 -r1 -p4\n",
    "release_years = movies_object.dist_by_release()\n",
    "print(release_years)\n",
    "print('==========timeit==========')"
   ]
  },
  {
   "cell_type": "markdown",
   "metadata": {},
   "source": [
    "Больше всего фильмов было снято в 2002 году а меньше всего в 1908, 1903, 1902, 1917, 1915, 1921, 1919, 1922"
   ]
  },
  {
   "cell_type": "markdown",
   "metadata": {},
   "source": [
    "### dist_by_genres"
   ]
  },
  {
   "cell_type": "markdown",
   "metadata": {},
   "source": [
    "Метод возвращает словарь, в котором ключами являются жанры, а значениями — количество.\n",
    "Отсортируйте его по убыванию количества."
   ]
  },
  {
   "cell_type": "code",
   "execution_count": 68,
   "metadata": {},
   "outputs": [
    {
     "name": "stdout",
     "output_type": "stream",
     "text": [
      "{'Drama': 4361, 'Comedy': 3756, 'Thriller': 1894, 'Action': 1828, 'Romance': 1596, 'Adventure': 1263, 'Crime': 1199, 'Sci-Fi': 980, 'Horror': 978, 'Fantasy': 779, 'Children': 664, 'Animation': 611, 'Mystery': 573, 'Documentary': 440, 'War': 382, 'Musical': 334, 'None': 192, 'Western': 167, 'Film-Noir': 87}\n",
      "==========timeit==========\n",
      "10.48 ms ± 0 ns per loop (mean ± std. dev. of 1 run, 1 loop each)\n"
     ]
    }
   ],
   "source": [
    "%%timeit -n1 -r1 -p4\n",
    "genres = movies_object.dist_by_genres()\n",
    "print(genres)\n",
    "print('==========timeit==========')"
   ]
  },
  {
   "cell_type": "markdown",
   "metadata": {},
   "source": [
    "Больше всего фильмов имеют жанр Drama, и меньше всего в жанре Film noir — жанр кинематографа, для которого характерны тёмное освещение, несбалансированные композиции, темы преступности и моральной неопределённости."
   ]
  },
  {
   "cell_type": "markdown",
   "metadata": {},
   "source": [
    "### most_genres"
   ]
  },
  {
   "cell_type": "markdown",
   "metadata": {},
   "source": [
    "Метод возвращает словарь с топ-n фильмами, где ключами являются названия фильмов,\n",
    "а значениями — количество жанров фильма. Отсортируйте его по убыванию чисел."
   ]
  },
  {
   "cell_type": "code",
   "execution_count": 69,
   "metadata": {},
   "outputs": [
    {
     "name": "stdout",
     "output_type": "stream",
     "text": [
      "{'Rubber (2010)': 10, 'Patlabor: The Movie (Kidô keisatsu patorebâ: The Movie) (1989)': 8, 'Mulan (1998)': 7}\n",
      "==========timeit==========\n",
      "19.89 ms ± 0 ns per loop (mean ± std. dev. of 1 run, 1 loop each)\n"
     ]
    }
   ],
   "source": [
    "%%timeit -n1 -r1 -p4\n",
    "movies = movies_object.most_genres(3)\n",
    "print(movies)\n",
    "print('==========timeit==========')"
   ]
  },
  {
   "cell_type": "markdown",
   "metadata": {},
   "source": [
    "Топ 3 фильма по кличеству жанров выглядит так: Шина, Patlabor: The Movie, Мулан."
   ]
  },
  {
   "cell_type": "markdown",
   "metadata": {},
   "source": [
    "### top_genres_in_year"
   ]
  },
  {
   "cell_type": "markdown",
   "metadata": {},
   "source": [
    "Метод возвращает словарь с топ-n жанрами в каждом году где ключами являются года,\n",
    "а значениями топ-n жанров. Отсортируем по убыванию годов и по убыванию количества встреченных жанров."
   ]
  },
  {
   "cell_type": "code",
   "execution_count": 70,
   "metadata": {},
   "outputs": [
    {
     "name": "stdout",
     "output_type": "stream",
     "text": [
      "{2018: {'Comedy': 17, 'Action': 16, 'Sci-Fi': 13}, 2017: {'Comedy': 56, 'Drama': 45, 'Action': 38}, 2016: {'Comedy': 75, 'Drama': 69, 'Action': 48}, 2015: {'Comedy': 104, 'Drama': 101, 'Action': 63}, 2014: {'Drama': 117, 'Comedy': 116, 'Action': 62}, 2013: {'Drama': 98, 'Comedy': 89, 'Action': 61}, 2012: {'Comedy': 103, 'Drama': 92, 'Action': 56}, 2011: {'Drama': 110, 'Comedy': 101, 'Thriller': 64}, 2010: {'Drama': 102, 'Comedy': 97, 'Action': 65}, 2009: {'Drama': 131, 'Comedy': 111, 'Thriller': 72}, 2008: {'Drama': 113, 'Comedy': 104, 'Action': 73}, 2007: {'Drama': 142, 'Comedy': 102, 'Thriller': 77}, 2006: {'Drama': 146, 'Comedy': 118, 'Thriller': 76}, 2005: {'Drama': 140, 'Comedy': 120, 'Thriller': 68}, 2004: {'Drama': 128, 'Comedy': 111, 'Action': 63}, 2003: {'Drama': 129, 'Comedy': 109, 'Action': 66}, 2002: {'Drama': 150, 'Comedy': 116, 'Thriller': 72}, 2001: {'Drama': 148, 'Comedy': 127, 'Romance': 66}, 2000: {'Drama': 138, 'Comedy': 117, 'Thriller': 59}, 1999: {'Drama': 124, 'Comedy': 113, 'Thriller': 48}, 1998: {'Drama': 122, 'Comedy': 99, 'Romance': 56}, 1997: {'Drama': 125, 'Comedy': 94, 'Thriller': 64}, 1996: {'Drama': 128, 'Comedy': 108, 'Thriller': 61}, 1995: {'Drama': 123, 'Comedy': 91, 'Romance': 49}, 1994: {'Drama': 114, 'Comedy': 111, 'Romance': 41}, 1993: {'Drama': 99, 'Comedy': 77, 'Action': 43}, 1992: {'Drama': 78, 'Comedy': 69, 'Romance': 36}, 1991: {'Comedy': 69, 'Drama': 63, 'Romance': 31}, 1990: {'Drama': 62, 'Comedy': 59, 'Action': 35}, 1989: {'Comedy': 71, 'Drama': 60, 'Action': 33}, 1988: {'Comedy': 72, 'Drama': 67, 'Action': 29}, 1987: {'Comedy': 77, 'Drama': 56, 'Action': 31}, 1986: {'Drama': 55, 'Comedy': 54, 'Action': 27}, 1985: {'Comedy': 54, 'Drama': 45, 'Adventure': 31}, 1984: {'Comedy': 40, 'Drama': 35, 'Sci-Fi': 18}, 1983: {'Comedy': 31, 'Drama': 29, 'Action': 15}, 1982: {'Comedy': 32, 'Drama': 29, 'Horror': 15}, 1981: {'Comedy': 32, 'Drama': 31, 'Action': 20}, 1980: {'Drama': 32, 'Comedy': 29, 'Horror': 18}, 1979: {'Drama': 32, 'Comedy': 24, 'Action': 13}, 1978: {'Comedy': 19, 'Drama': 17, 'Action': 15}, 1977: {'Drama': 27, 'Comedy': 21, 'Adventure': 12}, 1976: {'Drama': 21, 'Comedy': 16, 'Thriller': 15}, 1975: {'Drama': 19, 'Comedy': 12, 'Adventure': 7}, 1974: {'Drama': 20, 'Comedy': 13, 'Thriller': 12}, 1973: {'Drama': 29, 'Crime': 17, 'Thriller': 14}, 1972: {'Drama': 22, 'Comedy': 15, 'Thriller': 7}, 1971: {'Drama': 20, 'Action': 17, 'Thriller': 13}, 1970: {'Drama': 18, 'Comedy': 10, 'War': 7}, 1969: {'Drama': 17, 'Comedy': 11, 'Adventure': 6}, 1968: {'Drama': 17, 'Comedy': 13, 'Adventure': 9}, 1967: {'Drama': 23, 'Comedy': 14, 'Action': 8}, 1966: {'Comedy': 19, 'Drama': 18, 'Romance': 7}, 1965: {'Drama': 24, 'Comedy': 17, 'Action': 9}, 1964: {'Drama': 17, 'Comedy': 17, 'Romance': 7}, 1963: {'Comedy': 15, 'Drama': 15, 'Adventure': 9}, 1962: {'Drama': 24, 'Adventure': 7, 'Romance': 7}, 1961: {'Drama': 18, 'Comedy': 12, 'Romance': 10}, 1960: {'Drama': 19, 'Horror': 8, 'Comedy': 7}, 1959: {'Drama': 15, 'War': 8, 'Horror': 7}, 1958: {'Drama': 11, 'Comedy': 10, 'Romance': 7}, 1957: {'Drama': 18, 'Comedy': 8, 'Romance': 6}, 1956: {'Drama': 18, 'Sci-Fi': 6, 'Adventure': 5}, 1955: {'Drama': 21, 'Crime': 8, 'Romance': 8}, 1954: {'Drama': 15, 'Thriller': 4, 'Romance': 4}, 1953: {'Drama': 17, 'Comedy': 9, 'Romance': 7}, 1952: {'Drama': 9, 'Comedy': 7, 'Romance': 6}, 1951: {'Drama': 12, 'Romance': 7, 'Musical': 5}, 1950: {'Drama': 10, 'Romance': 9, 'Comedy': 6}, 1949: {'Drama': 15, 'Comedy': 8, 'Romance': 7}, 1948: {'Drama': 15, 'Adventure': 4, 'Crime': 4}, 1947: {'Drama': 12, 'Comedy': 9, 'Romance': 6}, 1946: {'Drama': 14, 'Film-Noir': 8, 'Romance': 5}, 1945: {'Drama': 7, 'Mystery': 6, 'Horror': 4}, 1944: {'Drama': 11, 'Romance': 5, 'Comedy': 4}, 1943: {'Drama': 8, 'Crime': 2, 'Thriller': 2}, 1942: {'Drama': 13, 'Romance': 10, 'Comedy': 9}, 1941: {'Drama': 9, 'Comedy': 8, 'Romance': 6}, 1940: {'Drama': 14, 'Comedy': 11, 'Romance': 9}, 1939: {'Drama': 15, 'Romance': 9, 'Comedy': 9}, 1938: {'Drama': 9, 'Comedy': 8, 'Romance': 4}, 1937: {'Drama': 12, 'Romance': 4, 'Musical': 3}, 1936: {'Romance': 10, 'Comedy': 7, 'Drama': 7}, 1935: {'Comedy': 7, 'Romance': 6, 'Drama': 6}, 1934: {'Comedy': 6, 'Drama': 4, 'Romance': 3}, 1933: {'Comedy': 5, 'Musical': 4, 'Drama': 4}, 1932: {'Romance': 4, 'Drama': 4, 'Comedy': 3}, 1931: {'Drama': 9, 'Comedy': 4, 'Crime': 3}, 1930: {'Drama': 4, 'Action': 1, 'War': 1}, 1929: {'Musical': 2, 'Documentary': 1, 'Fantasy': 1}, 1928: {'Comedy': 3, 'Animation': 1, 'Children': 1}, 1927: {'Drama': 5, 'Romance': 2, 'Sci-Fi': 1}, 1926: {'Drama': 3, 'Comedy': 2, 'War': 1}, 1925: {'Adventure': 2, 'Comedy': 2, 'Romance': 2}, 1924: {'Fantasy': 3, 'Comedy': 2, 'Action': 2}, 1923: {'Drama': 2, 'Comedy': 2, 'Action': 1}, 1922: {'Horror': 1}, 1921: {'Comedy': 1, 'Drama': 1}, 1920: {'Crime': 1, 'Fantasy': 1, 'Horror': 1}, 1919: {'Comedy': 1, 'Drama': 1}, 1917: {'Comedy': 1}, 1916: {'Drama': 1, 'Action': 1, 'Adventure': 1}, 1915: {'Drama': 1, 'War': 1}, 1908: {'Animation': 1, 'Comedy': 1, 'Sci-Fi': 1}, 1903: {'Crime': 1, 'Western': 1}, 1902: {'Action': 1, 'Adventure': 1, 'Fantasy': 1}}\n",
      "==========timeit==========\n",
      "23.95 ms ± 0 ns per loop (mean ± std. dev. of 1 run, 1 loop each)\n"
     ]
    }
   ],
   "source": [
    "%%timeit -n1 -r1 -p4\n",
    "year_genres = movies_object.top_genres_in_year(3)\n",
    "print(year_genres)\n",
    "print('==========timeit==========')"
   ]
  },
  {
   "cell_type": "markdown",
   "metadata": {},
   "source": [
    "В словаре можно увидеть какой жанр фильмов снимали чаще всего в каждом году."
   ]
  },
  {
   "cell_type": "markdown",
   "metadata": {},
   "source": [
    "## Теги. Tags"
   ]
  },
  {
   "cell_type": "code",
   "execution_count": 71,
   "metadata": {},
   "outputs": [],
   "source": [
    "tags_object = ma.Tags('./data/tags.csv')"
   ]
  },
  {
   "cell_type": "markdown",
   "metadata": {},
   "source": [
    "### most_words"
   ]
  },
  {
   "cell_type": "markdown",
   "metadata": {},
   "source": [
    "Метод возвращает топ-n тегов с наибольшим количеством слов внутри.\n",
    "Это словарь, в котором ключами являются теги, а значениями — количество слов внутри тега.\n",
    "Удалите дубликаты. Отсортируйте по убыванию."
   ]
  },
  {
   "cell_type": "code",
   "execution_count": 72,
   "metadata": {},
   "outputs": [
    {
     "name": "stdout",
     "output_type": "stream",
     "text": [
      "{'Something for everyone in this one... saw it without and plan on seeing it with kids!': 16, 'the catholic church is the most corrupt organization in history': 10, 'villain nonexistent or not needed for good story': 8}\n",
      "==========timeit==========\n",
      "2.422 ms ± 0 ns per loop (mean ± std. dev. of 1 run, 1 loop each)\n"
     ]
    }
   ],
   "source": [
    "%%timeit -n1 -r1 -p4\n",
    "big_tags = tags_object.most_words(3)\n",
    "print(big_tags)\n",
    "print('==========timeit==========')"
   ]
  },
  {
   "cell_type": "markdown",
   "metadata": {},
   "source": [
    "Топ 3 самых больших по количеству слов тега."
   ]
  },
  {
   "cell_type": "markdown",
   "metadata": {},
   "source": [
    "### longest"
   ]
  },
  {
   "cell_type": "markdown",
   "metadata": {},
   "source": [
    "Метод возвращает n самых длинных тегов по количеству символов.\n",
    "Это список тегов. Удалите дубликаты. Отсортируйте по убыванию."
   ]
  },
  {
   "cell_type": "code",
   "execution_count": 73,
   "metadata": {},
   "outputs": [
    {
     "name": "stdout",
     "output_type": "stream",
     "text": [
      "['Something for everyone in this one... saw it without and plan on seeing it with kids!', 'the catholic church is the most corrupt organization in history', 'villain nonexistent or not needed for good story']\n",
      "==========timeit==========\n",
      "2.602 ms ± 0 ns per loop (mean ± std. dev. of 1 run, 1 loop each)\n"
     ]
    }
   ],
   "source": [
    "%%timeit -n1 -r1 -p4\n",
    "big_tags = tags_object.longest(3)\n",
    "print(big_tags)\n",
    "print('==========timeit==========')"
   ]
  },
  {
   "cell_type": "markdown",
   "metadata": {},
   "source": [
    "Топ 3 самых больших по количеству символов тега."
   ]
  },
  {
   "cell_type": "markdown",
   "metadata": {},
   "source": [
    "### most_words_and_longest"
   ]
  },
  {
   "cell_type": "markdown",
   "metadata": {},
   "source": [
    "Метод возвращает пересечение между тегами с наибольшим количеством слов и\n",
    "тегами с наибольшим количеством символов.\n",
    "Удалите дубликаты. Это список тегов."
   ]
  },
  {
   "cell_type": "code",
   "execution_count": 74,
   "metadata": {},
   "outputs": [
    {
     "name": "stdout",
     "output_type": "stream",
     "text": [
      "['wizards', 'christmas', 'Audrey Tautou', 'postmodern', 'weird', 'Juliette Lewis', 'mind-bending', 'diner', 'twist ending', 'sad', 'nonlinear storyline', 'President', 'heroine in tight suit', 'fun', 'submarine', 'aquarium', 'Robin Williams', 'space station', 'black humour', 'unpredictable', 'Shia LaBeouf', 'love story', 'Chris Klein', 'singers', 'cheesy', 'Lloyd Dobbler', 'live action/animation', 'Amy Adams', 'video games', 'immigration', 'nightclub', 'Wall Street', 'Eccentric', 'Bugs Bunny', 'truckers', 'unconventional', 'oldie but goodie', 'Mental Hospital', 'smart', 'indiana jones', 'cartoon', 'war', 'good dialogue', 'Broadway', 'ben affleck', 'memory', 'Halle Berry', 'immigrants', 'Ben Kingsley', 'purposefulness', 'college', 'retro', 'golden watch', 'von Bulow', 'Mafia', 'pixar', 'slavery', 'Tolkien', 'Union', 'evolution', 'unlikely hero', 'governess', 'Michigan', 'updated classics', 'bank', 'hope', \"80's\", 'steve carell', 'Kevin Spacey', 'vampires', 'new york', 'Tom Clancy', 'remix culture', 'Metaphorical', 'Martin Scorsese', 'disability', 'Scotland', 'Las Vegas', 'Firefly', 'Jared Leto', 'terrorism', 'AS Byatt', 'cyberpunk', 'accident', 'nerds', 'deafness', 'anti-war', 'Hannibal Lecter', 'irony', 'Kurt Russell', 'knights', 'I am your father', '1980s', 'moving', 'Andrew Lloyd Weber', 'narnia', 'kung fu', 'parrots', 'Native Americans', 'camp', 'space', 'Turkey', 'terminal illness', 'bad humor', 'Holy Grail', 'Nun', 'paranoid', 'film noir', 'TOGA', 'Natalie Portman', 'Tim Burton', 'rap', 'joss whedon', 'zombies', 'Rosebud', 'hit men', 'lion', 'long shots', 'MCU', 'Steve Carell', 'James Franco', 'star wars', 'purity of essence', 'far fetched', 'politics', 'bombs', 'visually appealing', 'Zooey Deschanel', '70mm', 'menacing', 'old', 'passion', 'sophisticated', 'Batman', 'lyrical', 'deadpan', 'demons', 'India', 'dancing', 'Kevin Costner', 'meryl streep', 'Funny', 'statue', 'easygoing', 'Humour', 'crime', 'asylum', 'adorable', 'ridiculous', 'dark', 'Soundtrack', 'reality TV', 'remaster', 'Amazing Cinematography', 'superficial plot', 'video', 'Teen movie', 'gun fu', 'Dickens', 'alternate reality', 'Gulf War', 'Screwball', 'classic', 'Alicia Vikander', 'surrealism', 'Navy', 'coma', 'poignant', 'teacher', 'post-apocalyptic', 'multiple short stories', 'England', 'Dinosaur', 'bluegrass', 'Jason Biggs', 'history', 'first was much better', 'Cole Porter', 'organized crime', 'Rita Hayworth can dance!', 'Amtrak', 'unoriginal', 'black comedy', 'ballroom dance', 'for katie', 'biblical references', 'TERRORISM', 'video game adaptation', 'italy', 'Not Seen', \"Palme d'Or\", 'thought provoking', 'Ben Stiller', 'alternate universe', 'great humor', 'scary', 'symbolic', 'futuristic', 'daniel radcliffe', 'amazing artwork', 'notable soundtrack', 'Eva Green', 'Nudity (Full Frontal)', 'twisted', 'Marx brothers', 'spacecraft', 'infertility', 'Einstein', 'teachers', 'movies', 'mermaid', 'motherhood', 'action', 'apocalypse', 'president', 'nonlinear timeline', 'Aardman', 'too many characters', 'Psychological Thriller', 'prom', 'Adventure', 'financial crisis', 'big wave', 'trains', 'based on a book', 'Dumas', 'circus', 'coen brothers', 'not funny', 'great acting', 'diabetes', 'reflective', 'Arthur C. Clarke', 'Police', 'dogs', 'convent', 'Jesse Eisenberg', 'dark fairy tale', 'High School', 'horror', 'graphic design', 'cool style', 'enigmatic', 'ROBOTS AND ANDROIDS', 'storytelling', 'Brad Pitt', 'Trey Parker', 'movie business', 'Nabokov', 'Sustainability', '1950s', 'gun tactics', 'Amish', 'stupid but funny', 'Horrid characterisation', 'bears', 'earnest', 'rape', 'Peace Corp', 'intertwining storylines', 'British gangster', 'flood', 'cameo:Whoopi Goldberg', 'Black comedy', 'adolescence', 'shark', 'Food', 'marriage', 'great ending', 'Coen Bros', 'highschool', 'George Bernard Shaw', 'Insurance', 'Beethoven', 'intimate', 'Jim Carrey', 'vampire', 'dialogue', 'justice', 'baseball', 'race', 'Sean Connery', 'nonlinear', 'Prince', 'psychopaths', 'assassins', 'tricky', 'lions', 'unique', 'social commentary', 'pageant', 'comedy', 'werewolf', 'illusions', 'Scifi masterpiece', 'Marion Cotillard', '1970s', 'food', 'Music', 'bad', 'Nazis', 'American Indians', 'conversation', 'Tarantino', 'sexuality', 'dumpster diving', 'shipwreck', 'inspirational', 'Matt Damon', 'Africa', 'Ed Harris', 'Van Gogh', 'Norman Bates', 'Christopher Nolan', 'android(s)/cyborg(s)', 'Jim Morrison', 'Girl Power', 'deaf', 'writing', 'drugs', 'entertaining', 'gold', 'amazing dialogues', 'tearjerking', 'Salieri', 'different', 'doctors', 'saint', 'missionary', 'elegant', 'intense', 'court', 'Bible', 'Casey Affleck', 'Ben Affleck', 'investor corruption', 'cult film', 'multiple roles', 'British', 'heavy metal', 'claims to be true', 'remake', 'figure skating', 'zither', 'Twist Ending', 'Strangers on a Train', 'It was melodramatic and kind of dumb', 'restaurant', 'audience intelligence underestimated', 'Savannah', 'Hal', 'bad science', 'gothic', 'atmospheric', 'interracial marriage', 'Deep Throat', 'Francis Ford Coppola', 'modern fantasy', 'multiple storylines', 'los angeles', 'Angelina Jolie', 'gritty', 'Moving', 'Beatles', 'Surreal', 'political right versus left', 'grim', 'racism', 'Rogers and Hammerstein', 'river', 'disjointed timeline', 'city politics', 'Disaster', 'Visually appealing', 'Disney', 'heroin', 'Justin Timberlake', 'prostitution', 'Toto', 'Anne Boleyn', 'Up series', 'aliens', 'absorbing', 'Journalism', 'seen more than once', 'long takes', 'Academy award (Best Supporting Actress)', 'John Malkovich', 'threesome', 'Harrison Ford', 'KIDNAPPING', 'homeless', 'Poor story', 'mystery', 'Ghost', 'brutal', 'Poor plot development', 'golf', 'police', 'France', 'stop looking at me swan', 'Dan Aykroyd', 'bruce willis', 'religion', 'jay and silent bob', 'film history', 'bowling', 'Bad writing', 'schizophrenia', 'Nuclear disaster', 'police corruption', 'free speech', 'Stones of Summer', 'Woody Harrelson', 'John Goodman', 'ryan reynolds', 'sex', 'Christian Bale', 'reunion', 'stupid', 'Jesse Ventura', 'Rolling Stone', 'dinosaurs', 'Maggie Gyllenhaal', 'Harper Lee', 'psychedelic', 'robots', 'tear jerker', 'royalty', 'Ichabod Crane', 'scandal', 'alter ego', 'action choreography', 'scenic', 'sarcasm', 'very funny', 'revolutionary', 'white guilt', 'big corporations', 'intellectual', 'GIVE ME BACK MY SON!', 'Renee Zellweger', 'lack of story', 'tense', 'child abuse', 'South America', 'paranoia', 'Adam Sandler', 'Bill Murray', 'royal with cheese', 'divorce', 'evil children', 'nostalgia', 'salute to Douglas Sirk', 'Hugh Jackman', 'island', 'Afghanistan', 'cate blanchett', 'black hole', 'nonlinear narrative', 'Paul Giamatti', 'bromantic', 'Alfred Hitchcock', 'free to download', 'embarassing scenes', 'boksdrama', 'ending', 'colourful', 'the Force', 'superhero', 'carnival', 'psychological', 'lawyers', 'Katzanzakis', 'quick cuts', 'zoe kazan', 'nuns', 'batman', 'dreams', 'whales', 'treasure hunt', 'controversial', 'mind-blowing', 'Othello', 'No DVD at Netflix', 'NASA', 'Simple', 'survival', 'captain nemo', 'great cinematography', 'M. Night Shyamalan', 'relaxing', 'existentialism', 'Cambodia', 'based on a play', 'ethics', 'TV', 'Atmospheric', 'Mexico', 'muppets', 'chick flick', 'Vulgar', 'splatter', \"Eugene O'Neill\", 'hugh jackman', 'Colin Farrell', 'father-son relationship', 'Stoner Movie', 'Gal Gadot', 'sequel', 'pudding', 'pregnancy', 'James Stewart', 'suburbia', 'golfing', 'fucked up', 'costume drama', 'love', 'Visually stunning', 'genius', 'teenagers', 'falling', 'Butler', 'arthouse', 'Great performances', 'claymation', 'artificial intelligence', 'Cerebral', 'Pearl S Buck', 'pulp', 'film-noir', 'oil', 'Oscar (Best Actress)', 'HORRIBLE ACTING', 'aging', 'friendship', 'masculinity', 'secret society', 'Joker', 'Dialogue', 'edward norton', 'Post apocalyptic', 'generation X', 'Boston', 'Watergate', 'Guns', 'Brooch', 'shenanigans', 'a clever chef rat', 'sports', 'wine', 'heartbreaking', 'mediacentralism', 'plot holes', 'episodic', 'blindness', 'wry', 'Graham Greene', 'narrated', 'Viggo Mortensen', 'I see dead people', 'Howard Hughes', 'crime scene scrubbing', 'characters', 'Great movie', 'jazz', 'truth', 'bad-ass', 'show business', 'science fiction', 'Depressing', 'Jekyll and Hyde', 'Captain America', 'quirky', 'dark hero', 'heartwarming', 'drug overdose', 'drug abuse', 'McCarthy hearings', 'melancholy', 'r:disturbing violent content including rape', 'independent', 'Hannibal Lector', 'stand-up comedy', 'symbolism', 'insomnia', 'spoof', 'artistic', 'neo-noir', 'building a family', 'funny', 'predictable', 'longing', 'Sci-Fi', '2D animation', 'short stories', 'Nick Hornby', 'loneliness', 'intelligent', 'business', 'sexy female scientist', 'Capone', 'great performances', 'challenging', 'Jean Grey', 'subway', 'fugitive', 'bad script', 'Veterinarian', 'assassin-in-training (scene)', 'Hollywood', 'overcomplicated', 'Highly quotable', 'melancholic', 'Modern war', 'road trip', 'Chris Evans', 'Oscar (Best Effects - Visual Effects)', 'movies about movies', 'multiple personalities', 'beautiful visuals', 'virtual reality', 'twins', 'inhumane', 'weather forecaster', 'gun-fu', 'gangster', 'unexplained', 'Alcatraz', 'L.A.', 'American propaganda', 'Seth MacFarlane', 'mindless one liners', 'not seen', 'Monty Python', 'football', 'silly', 'realistic', 'Astaire and Rogers', 'beautifully filmed', 'Studio Ghibli', 'western', 'heroic bloodshed', 'Shakespeare', 'introspection', 'Anthony Hopkins', 'John Grisham', 'Jason', 'mobsters', 'mountain climbing', 'black-and-white', 'planes', 'high school', 'widows/widowers', 'emotional', 'Philip Seymour Hoffman', 'bad acting', 'courtroom drama', 'stone age', 'r:violence', 'aggressive', 'sofia coppola', 'gangs', 'secrets', 'slow', 'bizzare', 'ballet', 'FBI', 'freedom of expression', 'Animal movie', 'Tradition!', 'Jaime Pressly', 'dreamlike', 'Dark', 'Witty', 'slow paced', 'stupid ending', 'irreverent', 'rabbi', 'fairy tales', 'based on a TV show', 'gunfight', 'birds', 'Wolverine', 'amnesia', 'harry potter', 'poorly paced', 'Quirky', 'Queen Victoria', 'Thanos', 'character development', 'r:sustained strong stylized violence', 'trippy', 'parody', 'interesting characters', 'tragedy', 'lawn mower', 'train', 'hotel', 'off-beat comedy', 'animation', 'crappy sequel', 'awesome', 'Henry James', 'Will Ferrell', 'setting:space/space ship', 'Matrix', 'short films', 'Jessica Alba', 'thought-provoking', 'Mark Ruffalo', 'annoying', 'journalism', 'lesbian subtext', 'Thanksgiving', 'original', 'space travel', 'dance marathon', 'wistful', 'best comedy', 'David Bowie', 'Dr. Seuss', 'inspiring', 'post-college', 'R language', 'crude humor', 'bad plot', 'They Might Be Giants', 'saints', 'brutality', '\"\"\"artsy\"\"\"', 'boring', 'blood', 'non-linear timeline', 'Pee Wee Herman', 'death penalty', 'bad language', 'random', 'class', 'Quentin Tarantino', 'somber', 'a dingo ate my baby', 'Huey Long', 'Mystery', 'hallucinatory', 'helena bonham carter', 'predictible plot', 'too long', 'spiders', 'interwoven storylines', 'fast-paced', 'Cult classic', 'special effects', 'horses', 'Christoph Waltz', 'World War II', 'cynical', 'Favelas', 'geeky', 'family', 'touching', 'adventure', 'political commentary', 'whimsical', 'fatalistic', 'adult humor', 'spying', 'addiction', 'Priest', 'mobster', 'mad scientist', 'DEPRESSING', 'Cold War', 'samurai', 'Homeless', 'Sci-fi', 'Hearst', 'Arnold Schwarzenegger', 'Notable Nudity', 'assassin', 'Magic', 'Stand Up', 'May-December romance', 'Jude Law', 'faerie tale', 'comic book', 'cattle drive', 'Ralph Fiennes', 'austere', 'smart writing', 'motherfucker', 'Tolstoy', 'Australia', 'Rob Zombie', 'Nicolas Cage', 'e-mail', 'insightful', 'tension building', 'men in drag', 'Jake Gyllenhaal', 'Narrative pisstake', 'bizarre', 'intelligent sci-fi', 'Philip K. Dick', 'Truman Capote', 'Oscar (Best Supporting Actress)', 'artsy', 'surprise ending', 'insanity', 'freaks', '1960s', 'AIDs', 'dumb', 'stephen king', 'prodigies', 'time travel', 'satire', 'comics', 'technology', 'ark of the covenant', 'Christmas', 'nightmare', 'autism', 'Emma', 'Stanley Kubrick', 'based on a true story', 'Robert De Niro', 'televangelist', 'made me cry', 'alan rickman', 'visually stunning', 'innovative', 'directorial debut', 'non-linear', 'E. M. Forster', 'Dystopia', 'stupid is as stupid does', 'Brittany Murphy', 'crazy', 'Leonardo DiCaprio', 'disappointing', 'Hungary', 'awkward', 'reciprocal spectator', 'really bad', 'space opera', 'witty', 'avant-garde romantic comedy', 'great screenplay', 'aardman', 'POW', 'abortion', 'prison', 'Captain Kirk', 'Horrible directing', 'tobacco', 'offensive', 'understated', 'Star Wars', 'Dr. Strange', 'mathematics', 'pop culture references', 'economics', 'six-fingered man', 'gentle', 'Emma Stone', 'priest', 'Keanu Reeves', 'Andy Kaufman', 'too much love interest', 'sisterhood', 'photography', 'Nick and Nora Charles', 'Ireland', 'hippies', 'Istanbul', 'assassination', 'Sexual Humor', 'genocide', 'mockumentary', 'memory loss', 'seen at the cinema', 'invisibility', 'great dialogue', 'Liam Neeson', 'foul language', 'violence in america', 'Kevin Smith', 'Epic', 'weddings', 'murder', 'Michael Crichton', 'good cinematography', 'computer animation', 'quotable', 'jim carrey', 'powerful ending', 'strange', 'indie record label', 'Horror', 'procedural', 'dust bowl', 'system holism', 'ummarti2006', 'cult classic', 'confrontational', 'fast paced', 'drama', 'anger', 'out of order', 'hostage', 'animal movie', 'James Cameron', 'Emilia Clarke', 'school', 'goofy', 'crucifixion', 'good soundtrack', 'coulda been a contender', 'South Africa', 'halloween', 'lawyer', 'Steve Buscemi', 'biography', 'fighting', 'gintama', 'Samuel L. Jackson', 'Denzel Washington', 'Recap', 'way too long', 'superman', 'King Arthur', 'Halloween', 'darth vader', 'Ghosts', 'Arthur Miller', 'satirical', 'Andy Samberg', 'moody', 'Christopher Lloyd', 'Italy', 'leopard', 'doll', 'violence', 'Palahnuik', 'weak plot', 'Hawkeye', 'last man on earth', 'Heartwarming', 'coke', 'creepy', 'ensemble cast', 'dc comics', 'conspiracy', 'skiing', 'archaeology', 'heist', 'Chile', 'roald dahl', 'mecha', 'Oscar Wilde', 'Motivational', 'Gangs', 'SNL', 'Nerd', 'fish', 'corruption', 'teenage pregnancy', 'interracial romance', 'time-travel', 'DC', 'factory', 'BEST PICTURE', 'Conan', 'interesting', 'true story', 'stop using useless characters for filler', 'lesbian', 'post apocalyptic', 'dating', 'Luc Besson', 'gruesome', 'Oscar (Best Cinematography)', 'Beautiful', 'S.E. Hinton', 'adultery', 'twist', 'voyeurism', 'mental illness', 'Andy Garcia', 'suspenseful', 'ransom', 'Neil Patrick Harris', 'individualism', 'matchmaker', 'Charlize Theron', 'Peta Wilson', 'Visually Striking', 'start of a beautiful friendship', 'real estate', 'aviation', 'magic', 'CGI', 'brothers', 'art house', 'Jason Segel', 'casual violence', 'parenthood', 'incest', 'black humor', 'MacBeth', 'happy ending', 'John Cusack', 'Insane', 'John Travolta', 'espionage', 'overrated', 'Johnny Cash', 'con men', 'Bittersweet', 'Romans', 'ferris wheel', 'gambling', 'poetic', 'confusing', 'Thrilling', 'small time criminals', 'tom hardy', 'brainwashing', 'Clock', 'r:strong bloody violence', 'franchise', 'workplace', 'winona ryder', 'rebellion', 'Coen Brothers', 'Seann William Scott', 'Vietnam', 'human rights', 'r:graphic sexuality', 'test tag', 'Bechdel Test:Fail', 'soccer', 'plastic surgery', 'needed more autobots', 'spies', 'bittersweet', 'Tilda Swinton', 'classic sci-fi', 'tedious', 'Atomic bomb', 'AWESOME', 'Oscar (Best Music - Original Score)', 'big budget', '1900s', 'Jack Nicholson', 'cliche characters', 'happpiness', 'Julianne Moore', 'slick', 'morality', 'Paris', 'Not available from Netflix', 'fun family movie', 'New York City', 'classic movie', 'nuclear war', 'fantasy world', 'Classic', 'Creature Feature', 'Gary Oldman', 'milkshake', 'stiller', 'space action', 'poor dialogue', 'beautiful scenery', 'union', 'Big Brothers', 'Robert Downey Jr.', 'allegorical', 'pigs', 'tragic', 'Middle East', 'death', 'Christina Ricci', 'fatherhood', 'mental hospital', 'Stephen King', 'blind', 'philosophy', 'Shakespeare sort of', 'creative', 'good writing', 'Holocaust', 'screwball', 'hula hoop', 'art', 'romance', 'Morrow', 'character study', 'Sad', 'biking', 'killer', 'engrossing adventure', 'casino', 'donkey', 'Thor', 'philosopical', 'Wizards', 'Indonesia', 'chilly', 'Insanity', 'marvel', 'psychological thriller', 'Russell Crowe', 'Dogs', 'Tom Hardy', 'uncomfortable', 'Doc Ock', 'Michael Bay', 'spaghetti western', 'radio', 'humane', 'Nathan Fillion', 'Medieval', 'nanny', 'villain nonexistent or not needed for good story', \"Harley Quinn's ass\", 'quirky romantic', 'Mark Wahlberg', 'children', 'male nudity', 'mining', 'Venice', 'homosexuality', 'Mel Gibson', 'bad music', 'Inigo Montoya', 'Documentary', 'ogres', 'dystopia', 'vertriloquism', 'DC Comics', 'fantasy', 'Death', 'blood splatters', 'Backwards. memory', 'claustrophobic', 'Russia', 'Family', 'large cast', 'Rachel McAdams', 'bad dialogue', 'computer', 'Enterprise', 'Rome', 'Lonesome Polecat', 'Hemingway', 'General Motors', 'adoption', 'cia', 'pool', 'historical', 'Slim Pickens', 'FIGHTING THE SYSTEM', 'celebrity fetishism', 'stylized', 'moon', 'mythology', 'cult', 'Titanic', 'Uma Thurman', 'wapendrama', 'MMA', 'leonardo DiCarpio', 'elegiac', 'Animation', 'Pixar', 'Train', 'Missionary', 'alone in the world', 'McDonalds', '1990s', 'books', 'wrongful imprisonment', 'Gambling', 'spelling bee', 'cross dressing', 'stylish', 'high fantasy', 'r:strong language', 'Louisa May Alcott', 'Tolkein', 'cinematography', 'HOT actress', 'superb soundtrack', 'Sinbad', 'Tokyo', 'imaginative', 'bromance', 'apes', 'theater', 'no dialogue', 'surreal', 'slow action', 'suicide', 'Hilary Swank', 'Hayao Miyazaki', 'Jeff Bridges', 'original plot', 'documentary', 'stage', 'Orlando Bloom', 'Day and Hudson', 'jon hamm', 'Robert Penn Warren', 'lord of the rings', 'Jane Austen', 'anime', 'Jennifer Connelly', 'Nudity (Topless)', 'androids', 'Bruce Willis', 'noir', 'prequel', 'masterpiece', 'cerebral', 'the catholic church is the most corrupt organization in history', 'drugs & music', 'bleak', 'end of the world', 'butler', 'imaginary friend', 'basketball', 'In Your Eyes', 'bad jokes', 'Dorothy', 'Judaism', 'scifi', 'lies', 'lack of development', 'luke skywalker', 'marijuana', 'sisters', 'multiple stories', 'George Clooney', 'James Fennimore Cooper', 'busniess', 'game', 'biopic', 'Chuck Palahniuk', 'Dwayne Johnson', 'unsettling', 'Charlotte Bronte', 'David Fincher', 'New York', 'Al Pacino', 'prejudice', 'Seth Rogen', 'cruel characters', 'southern US', 'ships', 'Lou Gehrig', 'camels', 'Johnny Depp', 'thriller', 'painter', 'undercover cop', 'families', 'humorous', 'cancer', 'great soundtrack', 'David Thewlis', 'EPIC', 'suspense', 'uplifting', 'Tom Hanks', 'tolkien', 'bible', 'gore', 'Stupid ending', 'pizza beer', 'Existential', 'complicated', 'Hepburn and Tracy', 'space adventure', 'unintelligent', 'twists & turns', 'visual', 'jackie chan', 'good and evil', 'Bette Davis', 'representation of children', 'lovely', 'philosophical issues', 'stapler', 'remade', 'China', 'music', 'Saturday Night Live', 'eerie', 'alternate endings', 'slasher', 'acting', 'surfing', 'singletons', 'Marvel', 'consumerism', 'romantic', 'Canada', 'money', 'lieutenant dan', 'american idolatry', 'Dull', 'downbeat', 'immortality', 'Borg', 'Stephen Crane', 'shrimp', 'mice', 'r:some violence', 'monologue', 'boxing', 'Rogue', 'big boys with guns', 'cool', 'achronological', 'Politics', 'Mount Rushmore', 'World War I', 'anti-intellectual', 'Hammett', 'philosophical', 'Ninotchka remake', 'Magneto', 'Eric Bana', 'Disturbing', 'California', 'emma thompson', 'south park', 'violent', 'bloody', 'Heroic Bloodshed', 'rug', 'Cold', 'imdb top 250', 'guns', 'freedom', 'serial killer', 'Europe', 'Wesley Snipes', 'Mindfuck', 'transvestite', 'Unique', 'Mrs. DeWinter', 'teen', 'disturbing', 'Empire State Building', 'contemplative', 'colorful', 'cheeky', 'black and white', 'fairy tale', 'younger men', 'abstract', 'beat poetry', 'meaningless violence', 'unusual', 'bus', 'ironic', 'Revenge', 'SPACE TRAVEL', 'Simon Pegg', 'Boxing story', 'anti-Semitism', 'Charles Dickens', 'Well Done', 'Star Trek', 'personals ads', 'amazing', 'gangsters', 'In Netflix queue', 'sword fight', 'jungle', 'Anne Hathaway', 'bad ass', 'obsession', 'lack of plot', 'Simon and Garfunkel', 'music business', 'Stock Market', 'enjoyable', 'daniel craig', 'double life', 'Japan', 'Harley Quinn', 'Action', 'depression', 'Roger Avary', 'C.S. Lewis', 'psychiatrist', 'creativity', 'con artists', 'hilarious', 'Shark', 'E.M. Forster', 'photographer', 'fast-paced dialogue', 'ghosts', 'plot twist', 'exciting', 'Dodie Smith', 'Agatha Christie', 'robbery', 'ocean', 'Josh Brolin', 'will ferrell', 'societal criticism', 'Klingons', 'Shangri-La', 'The Entertainer', 'big name actors', 'nocturnal', '1920s', 'Jennifer Lawrence', 'dead wife', 'military', 'kids', 'Quotable', 'future', 'Crude humor', 'clever', 'british comedy', 'ancient Rome', 'haunting', 'Loretta Lynn', 'organised crime', 'ben stiller', 'Suspense', 'revenge', 'beautiful cinematography', 'dance', 'domestic violence', 'Will Smith', 'action packed', 'r:disturbing violent images', 'confusing ending', '06 Oscar Nominated Best Movie - Animation', 'new composer', 'Macaulay Culkin', 'Civil War', 'sexy', 'psychology', 'magic board game', 'new society', 'big top', 'preacher', 'cryptic', 'computers', 'Ray Bradbury', 'Disney animated feature', 'Adrien Brody', 'romantic comedy', 'brilliant', 'sentimental', 'Mila Kunis', 'killer-as-protagonist', 'Capote', 'Jean Reno', 'oninous', 'Scott Turow', 'Great villain', 'goretastic', 'stranded', 'Morgan Freeman', 'humor', 'martial arts', 'Edward Norton', 'depressing', 'nonsense', 'George Lucas', 'rich guy - poor girl', 'travolta', 'Everything you want is here', 'space craft', 'women', 'sweet', 'meditative', 'Ryan Reynolds', 'kidnapping', 'moldy', 'Mozart', 'virginity', 'good music', 'Peter Pan', 'bad writing', 'solitude', 'china', 'Grace', 'entirely dialogue', 'soundtrack', 'mirrors', 'Something for everyone in this one... saw it without and plan on seeing it with kids!', 'missing children', 'Rachel Weisz', 'revolution', 'Comedy', 'bubba gump shrimp', 'beautiful', 'Margot Robbie', 'rasicm', 'Henry Darger', 'wonderwoman', 'Steven Spielberg', 'Great Visuals', 'Ewan McGregor', 'music industry', 'britpop', 'swashbuckler', 'dreamy', 'Tennessee Williams', 'imagination', 'unnecessary sequel', 'Bad story', 'Edith Wharton', 'Exquisite plotting.', 'interesting scenario', 'tension', 'alcoholism', 'shakespeare', 'macho', 'Michael Cera', 'Clousseau', 'Sundance award winner', 'sniper', 'superhero team', 'Western', 'dark humor', 'childish naivity', 'jack nicholson', 'ex-con', 'space epic', 'jake gyllenhaal', 'transplants', 'conspiracy theory', 'small towns', 'not linear', 'iconic', 'opera', 'Myth', 'Siam', 'wedding', 'babies', 'Suspenseful', 'feel-good', 'cheating', 'holocaust', 'epic', 'Robert Ludlum', 'mindfuck', 'PTSD', 'harsh', 'television', '2001-like', 'independent film', 'orphans', 'hitman', 'Paul Rudd', 'self discovery', 'scifi cult', 'chess', 'good', 'Olympics', 'mafia', 'hip hop', 'humour', 'Housekeeper', 'mel gibson', 'Guardians of the Galaxy', 'Moses', 'Harvey Keitel', 'Lolita theme', 'awkward romance', 'sci-fi', 'Quakers', 'Made me cry', 'French', 'anthology', 'dark comedy']\n",
      "==========timeit==========\n",
      "5.619 ms ± 0 ns per loop (mean ± std. dev. of 1 run, 1 loop each)\n"
     ]
    }
   ],
   "source": [
    "%%timeit -n1 -r1 -p4\n",
    "big_tags = tags_object.most_words_and_longest()\n",
    "print(big_tags)\n",
    "print('==========timeit==========')"
   ]
  },
  {
   "cell_type": "markdown",
   "metadata": {},
   "source": [
    "### most_popular"
   ]
  },
  {
   "cell_type": "markdown",
   "metadata": {},
   "source": [
    "Метод возвращает самые популярные теги.\n",
    "Это словарь, в котором ключами являются теги, а значениями — количество тегов.\n",
    "Удалите дубликаты. Отсортируйте по убыванию количества тегов."
   ]
  },
  {
   "cell_type": "code",
   "execution_count": 75,
   "metadata": {},
   "outputs": [
    {
     "name": "stdout",
     "output_type": "stream",
     "text": [
      "{'In Netflix queue': 131, 'atmospheric': 36, 'superhero': 24}\n",
      "==========timeit==========\n",
      "3.248 ms ± 0 ns per loop (mean ± std. dev. of 1 run, 1 loop each)\n"
     ]
    }
   ],
   "source": [
    "%%timeit -n1 -r1 -p4\n",
    "popular_tags = tags_object.most_popular(3)\n",
    "print(popular_tags)\n",
    "print('==========timeit==========')"
   ]
  },
  {
   "cell_type": "markdown",
   "metadata": {},
   "source": [
    "Топ 3 самых популярных тега."
   ]
  },
  {
   "cell_type": "markdown",
   "metadata": {},
   "source": [
    "### tags_with"
   ]
  },
  {
   "cell_type": "markdown",
   "metadata": {},
   "source": [
    "Метод возвращает все уникальные теги, содержащие слово, переданное в качестве аргумента.\n",
    "Удалите дубликаты. Это список тегов. Отсортируйте его по названиям тегов в алфавитном порядке."
   ]
  },
  {
   "cell_type": "code",
   "execution_count": 76,
   "metadata": {},
   "outputs": [
    {
     "name": "stdout",
     "output_type": "stream",
     "text": [
      "['Mafia', 'mafia']\n",
      "==========timeit==========\n",
      "1.962 ms ± 0 ns per loop (mean ± std. dev. of 1 run, 1 loop each)\n"
     ]
    }
   ],
   "source": [
    "%%timeit -n1 -r1 -p4\n",
    "tags_with_word = tags_object.tags_with('Mafia')\n",
    "print(tags_with_word)\n",
    "print('==========timeit==========')"
   ]
  },
  {
   "cell_type": "markdown",
   "metadata": {},
   "source": [
    "Слово Mafia появляеться только в двух уникальных тегах."
   ]
  },
  {
   "cell_type": "markdown",
   "metadata": {},
   "source": [
    "### various_films"
   ]
  },
  {
   "cell_type": "markdown",
   "metadata": {},
   "source": [
    "Метод возвращает топ-n самых разнообразных фильмов (с наибольшим количеством тегов).\n",
    "Это словарь, в котором ключами являются id фильма, а значениями количество тегов этих фильмов."
   ]
  },
  {
   "cell_type": "code",
   "execution_count": 77,
   "metadata": {},
   "outputs": [
    {
     "name": "stdout",
     "output_type": "stream",
     "text": [
      "{296: 181, 2959: 54, 924: 41}\n",
      "==========timeit==========\n",
      "3.409 ms ± 0 ns per loop (mean ± std. dev. of 1 run, 1 loop each)\n"
     ]
    }
   ],
   "source": [
    "%%timeit -n1 -r1 -p4\n",
    "movies_and_tags_cnt = tags_object.various_films(3)\n",
    "print(movies_and_tags_cnt)\n",
    "print('==========timeit==========')"
   ]
  },
  {
   "cell_type": "markdown",
   "metadata": {},
   "source": [
    "Топ 3 фильма по количеству тегов."
   ]
  },
  {
   "cell_type": "markdown",
   "metadata": {},
   "source": [
    "## Рейтинг. Ratings"
   ]
  },
  {
   "cell_type": "code",
   "execution_count": 78,
   "metadata": {},
   "outputs": [],
   "source": [
    "ratings_object = ma.Ratings('./data/ratings.csv', './data/movies.csv')"
   ]
  },
  {
   "cell_type": "markdown",
   "metadata": {},
   "source": [
    "### movies.dist_by_year"
   ]
  },
  {
   "cell_type": "markdown",
   "metadata": {},
   "source": [
    "Метод возвращает словарь, в котором ключами являются годы, а значениями — подсчёты.\n",
    "Отсортируйте его по годам в порядке возрастания. Вам нужно извлечь годы из временных меток."
   ]
  },
  {
   "cell_type": "code",
   "execution_count": 79,
   "metadata": {},
   "outputs": [
    {
     "name": "stdout",
     "output_type": "stream",
     "text": [
      "{1996: 6040, 1997: 1916, 1998: 507, 1999: 2439, 2000: 10061, 2001: 3922, 2002: 3478, 2003: 4014, 2004: 3274, 2005: 5818, 2006: 4062, 2007: 7111, 2008: 4345, 2009: 4164, 2010: 2301, 2011: 1690, 2012: 4656, 2013: 1664, 2014: 1439, 2015: 6616, 2016: 6702, 2017: 8199, 2018: 6418}\n",
      "==========timeit==========\n",
      "80.54 ms ± 0 ns per loop (mean ± std. dev. of 1 run, 1 loop each)\n"
     ]
    }
   ],
   "source": [
    "%%timeit -n1 -r1 -p4\n",
    "ratings_by_year = ratings_object.movies.dist_by_year()\n",
    "print(ratings_by_year)\n",
    "print('==========timeit==========')"
   ]
  },
  {
   "cell_type": "markdown",
   "metadata": {},
   "source": [
    "В списке видно сколько оценок различных фильмов поставили в каждом году."
   ]
  },
  {
   "cell_type": "markdown",
   "metadata": {},
   "source": [
    "### movies.dist_by_rating"
   ]
  },
  {
   "cell_type": "markdown",
   "metadata": {},
   "source": [
    "Метод возвращает словарь, в котором ключами являются оценки, а значениями — количество оценок.\n",
    "Отсортируйте его по возрастанию оценок."
   ]
  },
  {
   "cell_type": "code",
   "execution_count": 80,
   "metadata": {},
   "outputs": [
    {
     "name": "stdout",
     "output_type": "stream",
     "text": [
      "{0.5: 1370, 1.0: 2811, 1.5: 1791, 2.0: 7551, 2.5: 5550, 3.0: 20047, 3.5: 13136, 4.0: 26818, 4.5: 8551, 5.0: 13211}\n",
      "==========timeit==========\n",
      "62.96 ms ± 0 ns per loop (mean ± std. dev. of 1 run, 1 loop each)\n"
     ]
    }
   ],
   "source": [
    "%%timeit -n1 -r1 -p4\n",
    "ratings_distribution = ratings_object.movies.dist_by_rating()\n",
    "print(ratings_distribution)\n",
    "print('==========timeit==========')"
   ]
  },
  {
   "cell_type": "markdown",
   "metadata": {},
   "source": [
    "Положительных оценок около 13211 тогда как максимально негативных оценок около 1370"
   ]
  },
  {
   "cell_type": "markdown",
   "metadata": {},
   "source": [
    "### movies.top_by_num_of_ratings"
   ]
  },
  {
   "cell_type": "markdown",
   "metadata": {},
   "source": [
    "Метод возвращает топ-n фильмов по количеству оценок.\n",
    "Это словарь, в котором ключами являются названия фильмов, а значениями — числа.\n",
    "Отсортируйте его по убыванию чисел."
   ]
  },
  {
   "cell_type": "code",
   "execution_count": 81,
   "metadata": {},
   "outputs": [
    {
     "name": "stdout",
     "output_type": "stream",
     "text": [
      "{'Forrest Gump (1994)': 329, 'Shawshank Redemption, The (1994)': 317, 'Pulp Fiction (1994)': 307}\n",
      "==========timeit==========\n",
      "65.5 ms ± 0 ns per loop (mean ± std. dev. of 1 run, 1 loop each)\n"
     ]
    }
   ],
   "source": [
    "%%timeit -n1 -r1 -p4\n",
    "top_movies = ratings_object.movies.top_by_num_of_ratings(3)\n",
    "print(top_movies)\n",
    "print('==========timeit==========')"
   ]
  },
  {
   "cell_type": "markdown",
   "metadata": {},
   "source": [
    "Топ 3 фильма по количеству оценок."
   ]
  },
  {
   "cell_type": "markdown",
   "metadata": {},
   "source": [
    "### movies.top_by_ratings"
   ]
  },
  {
   "cell_type": "markdown",
   "metadata": {},
   "source": [
    "Метод возвращает топ-n фильмов по среднему или медианному значению рейтинга.\n",
    "Это словарь, в котором ключами являются названия фильмов, а значениями — метрические показатели.\n",
    "Отсортируйте его по метрическим показателям в порядке убывания.\n",
    "Значения должны быть округлены до 2 знаков после запятой."
   ]
  },
  {
   "cell_type": "code",
   "execution_count": 82,
   "metadata": {},
   "outputs": [
    {
     "name": "stdout",
     "output_type": "stream",
     "text": [
      "{'The Jinx: The Life and Deaths of Robert Durst (2015)': 5.0, 'Galaxy of Terror (Quest) (1981)': 5.0, 'Alien Contamination (1980)': 5.0}\n",
      "==========timeit==========\n",
      "87.11 ms ± 0 ns per loop (mean ± std. dev. of 1 run, 1 loop each)\n"
     ]
    }
   ],
   "source": [
    "%%timeit -n1 -r1 -p4\n",
    "top_movies = ratings_object.movies.top_by_ratings(3, 'average')\n",
    "print(top_movies)\n",
    "print('==========timeit==========')"
   ]
  },
  {
   "cell_type": "markdown",
   "metadata": {},
   "source": [
    "Топ 3 фильма по среднему рейтингу."
   ]
  },
  {
   "cell_type": "code",
   "execution_count": 83,
   "metadata": {},
   "outputs": [
    {
     "name": "stdout",
     "output_type": "stream",
     "text": [
      "{'Star Wars: Episode IV - A New Hope (1977)': 5.0, 'Silence of the Lambs, The (1991)': 5.0, 'Fargo (1996)': 5.0}\n",
      "==========timeit==========\n",
      "87.49 ms ± 0 ns per loop (mean ± std. dev. of 1 run, 1 loop each)\n"
     ]
    }
   ],
   "source": [
    "%%timeit -n1 -r1 -p4\n",
    "top_movies = ratings_object.movies.top_by_ratings(3, 'median')\n",
    "print(top_movies)\n",
    "print('==========timeit==========')"
   ]
  },
  {
   "cell_type": "markdown",
   "metadata": {},
   "source": [
    "Топ 3 фильма по медианному рейтингу."
   ]
  },
  {
   "cell_type": "markdown",
   "metadata": {},
   "source": [
    "### movies.top_controversial"
   ]
  },
  {
   "cell_type": "markdown",
   "metadata": {},
   "source": [
    "Метод возвращает топ-n фильмов по разбросу оценок.\n",
    "Это словарь, в котором ключами являются названия фильмов, а значениями — разброс оценок.\n",
    "Отсортируйте его по убыванию разбросов.\n",
    "Значения должны быть округлены до 2 знаков после запятой."
   ]
  },
  {
   "cell_type": "code",
   "execution_count": 84,
   "metadata": {},
   "outputs": [
    {
     "name": "stdout",
     "output_type": "stream",
     "text": [
      "{'Toy Story (1995)': 4.5, 'Grumpier Old Men (1995)': 4.5, 'Seven (a.k.a. Se7en) (1995)': 4.5}\n",
      "==========timeit==========\n",
      "85.96 ms ± 0 ns per loop (mean ± std. dev. of 1 run, 1 loop each)\n"
     ]
    }
   ],
   "source": [
    "%%timeit -n1 -r1 -p4\n",
    "top_movies = ratings_object.movies.top_controversial(3)\n",
    "print(top_movies)\n",
    "print('==========timeit==========')"
   ]
  },
  {
   "cell_type": "markdown",
   "metadata": {},
   "source": [
    "Топ 3 фильмов по разбросу оценок."
   ]
  },
  {
   "cell_type": "markdown",
   "metadata": {},
   "source": [
    "### movies.top_years"
   ]
  },
  {
   "cell_type": "markdown",
   "metadata": {},
   "source": [
    "Метод возвращает топ-n годов с самыми высокими рейтингами.\n",
    "Это словарь, в котором ключами являются года, а значениями — средний рейтинг."
   ]
  },
  {
   "cell_type": "code",
   "execution_count": 85,
   "metadata": {},
   "outputs": [
    {
     "name": "stdout",
     "output_type": "stream",
     "text": [
      "{2013: 3.88, 2011: 3.78, 1999: 3.77}\n",
      "==========timeit==========\n",
      "79.63 ms ± 0 ns per loop (mean ± std. dev. of 1 run, 1 loop each)\n"
     ]
    }
   ],
   "source": [
    "%%timeit -n1 -r1 -p4\n",
    "years_and_ratings = ratings_object.movies.top_years(3)\n",
    "print(years_and_ratings)\n",
    "print('==========timeit==========')"
   ]
  },
  {
   "cell_type": "markdown",
   "metadata": {},
   "source": [
    "Топ 3 года с наибольшим средним рейтингом фильмов."
   ]
  },
  {
   "cell_type": "markdown",
   "metadata": {},
   "source": [
    "### users.dist_by_users"
   ]
  },
  {
   "cell_type": "markdown",
   "metadata": {},
   "source": [
    "Возвращает распределение пользователей по количеству выставленных ими оценок."
   ]
  },
  {
   "cell_type": "code",
   "execution_count": 86,
   "metadata": {},
   "outputs": [
    {
     "name": "stdout",
     "output_type": "stream",
     "text": [
      "{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}\n",
      "==========timeit==========\n",
      "55.8 ms ± 0 ns per loop (mean ± std. dev. of 1 run, 1 loop each)\n"
     ]
    }
   ],
   "source": [
    "%%timeit -n1 -r1 -p4\n",
    "output = ratings_object.users.dist_by_users()\n",
    "print(output)\n",
    "print('==========timeit==========')"
   ]
  },
  {
   "cell_type": "markdown",
   "metadata": {},
   "source": [
    "Список показывающий сколько оценок поставили разные пользователи."
   ]
  },
  {
   "cell_type": "markdown",
   "metadata": {},
   "source": [
    "### users.dist_by_avrg_ratings"
   ]
  },
  {
   "cell_type": "markdown",
   "metadata": {},
   "source": [
    "Возвращает распределение пользователей по средним или медианным оценкам, выставленным ими."
   ]
  },
  {
   "cell_type": "code",
   "execution_count": 87,
   "metadata": {},
   "outputs": [
    {
     "name": "stdout",
     "output_type": "stream",
     "text": [
      "{1: 4.37, 2: 3.95, 3: 2.44, 4: 3.56, 5: 3.64, 6: 3.49, 7: 3.23, 8: 3.57, 9: 3.26, 10: 3.28, 11: 3.78, 12: 4.39, 13: 3.65, 14: 3.4, 15: 3.45, 16: 3.72, 17: 4.21, 18: 3.73, 19: 2.61, 20: 3.59, 21: 3.26, 22: 2.57, 23: 3.65, 24: 3.65, 25: 4.81, 26: 3.24, 27: 3.55, 28: 3.02, 29: 4.14, 30: 4.74, 31: 3.92, 32: 3.75, 33: 3.79, 34: 3.42, 35: 4.09, 36: 2.63, 37: 4.14, 38: 3.22, 39: 4.0, 40: 3.77, 41: 3.25, 42: 3.57, 43: 4.55, 44: 3.35, 45: 3.88, 46: 4.0, 47: 3.05, 48: 4.03, 49: 4.26, 50: 2.78, 51: 3.78, 52: 4.48, 53: 5.0, 54: 3.03, 55: 2.84, 56: 3.8, 57: 3.39, 58: 3.9, 59: 4.36, 60: 3.73, 61: 4.05, 62: 4.08, 63: 3.63, 64: 3.77, 65: 4.03, 66: 4.02, 67: 3.97, 68: 3.23, 69: 4.37, 70: 4.32, 71: 3.6, 72: 4.16, 73: 3.71, 74: 4.27, 75: 3.23, 76: 3.08, 77: 4.0, 78: 3.16, 79: 4.2, 80: 4.26, 81: 2.77, 82: 3.38, 83: 3.31, 84: 3.69, 85: 3.71, 86: 3.93, 87: 3.95, 88: 4.04, 89: 3.47, 90: 4.07, 91: 3.4, 92: 3.94, 93: 4.29, 94: 3.04, 95: 4.06, 96: 3.88, 97: 4.19, 98: 3.91, 99: 3.87, 100: 3.95, 101: 3.56, 102: 3.36, 103: 3.91, 104: 3.51, 105: 4.12, 106: 4.44, 107: 3.91, 108: 3.99, 109: 3.22, 110: 3.73, 111: 3.34, 112: 3.59, 113: 3.65, 114: 3.44, 115: 3.77, 116: 3.44, 117: 3.34, 118: 3.82, 119: 4.18, 120: 3.41, 121: 3.29, 122: 4.55, 123: 4.04, 124: 3.99, 125: 3.86, 126: 3.29, 127: 3.11, 128: 4.36, 129: 3.92, 130: 3.54, 131: 3.44, 132: 3.04, 133: 3.0, 134: 3.57, 135: 3.63, 136: 3.32, 137: 3.98, 138: 3.52, 139: 2.14, 140: 3.5, 141: 3.54, 142: 3.82, 143: 3.32, 144: 3.63, 145: 3.35, 146: 3.14, 147: 3.38, 148: 3.74, 149: 2.72, 150: 3.58, 151: 3.54, 152: 4.02, 153: 2.22, 154: 4.38, 155: 3.61, 156: 3.69, 157: 3.48, 158: 3.42, 159: 3.27, 160: 2.71, 161: 3.83, 162: 4.24, 163: 3.0, 164: 4.25, 165: 3.54, 166: 4.07, 167: 3.44, 168: 4.46, 169: 4.25, 170: 3.34, 171: 4.63, 172: 3.83, 173: 3.48, 174: 3.66, 175: 3.54, 176: 4.06, 177: 3.38, 178: 4.09, 179: 3.78, 180: 3.56, 181: 2.94, 182: 3.51, 183: 3.82, 184: 3.71, 185: 3.53, 186: 4.08, 187: 3.78, 188: 4.4, 189: 4.1, 190: 3.91, 191: 3.74, 192: 4.05, 193: 3.8, 194: 3.48, 195: 3.53, 196: 3.94, 197: 3.86, 198: 3.49, 199: 3.4, 200: 3.81, 201: 4.1, 202: 3.82, 203: 3.84, 204: 3.96, 205: 3.87, 206: 4.04, 207: 2.88, 208: 3.31, 209: 4.24, 210: 4.08, 211: 3.9, 212: 3.59, 213: 3.83, 214: 2.86, 215: 3.91, 216: 3.66, 217: 2.76, 218: 3.37, 219: 3.17, 220: 3.96, 221: 4.13, 222: 3.17, 223: 3.27, 224: 4.26, 225: 3.65, 226: 3.48, 227: 4.2, 228: 3.74, 229: 3.74, 230: 2.86, 231: 3.85, 232: 3.25, 233: 3.3, 234: 3.5, 235: 3.65, 236: 3.97, 237: 3.36, 238: 3.68, 239: 4.03, 240: 3.91, 241: 3.98, 242: 3.6, 243: 4.14, 244: 3.77, 245: 2.71, 246: 4.25, 247: 3.75, 248: 3.75, 249: 3.7, 250: 4.22, 251: 4.87, 252: 4.2, 253: 4.35, 254: 3.98, 255: 2.57, 256: 3.95, 257: 3.2, 258: 4.2, 259: 3.12, 260: 3.76, 261: 3.86, 262: 3.11, 263: 3.72, 264: 3.56, 265: 3.35, 266: 3.5, 267: 4.18, 268: 3.27, 269: 3.62, 270: 3.2, 271: 3.19, 272: 3.63, 273: 4.0, 274: 3.24, 275: 4.09, 276: 4.39, 277: 3.57, 278: 3.88, 279: 3.65, 280: 3.9, 281: 3.21, 282: 4.03, 283: 3.31, 284: 3.72, 285: 3.96, 286: 3.79, 287: 2.62, 288: 3.15, 289: 3.62, 290: 4.14, 291: 4.26, 292: 3.3, 293: 2.62, 294: 2.61, 295: 3.74, 296: 4.17, 297: 2.6, 298: 2.36, 299: 3.65, 300: 4.3, 301: 3.32, 302: 4.0, 303: 3.91, 304: 3.87, 305: 3.92, 306: 3.32, 307: 2.67, 308: 2.43, 309: 3.84, 310: 3.53, 311: 2.34, 312: 3.71, 313: 3.43, 314: 3.05, 315: 3.36, 316: 3.0, 317: 3.73, 318: 3.76, 319: 4.43, 320: 3.52, 321: 3.57, 322: 3.41, 323: 3.17, 324: 3.14, 325: 3.54, 326: 4.02, 327: 4.1, 328: 3.23, 329: 2.87, 330: 3.69, 331: 3.63, 332: 3.6, 333: 2.64, 334: 3.42, 335: 3.68, 336: 4.32, 337: 4.21, 338: 2.94, 339: 4.07, 340: 4.21, 341: 3.8, 342: 2.94, 343: 4.06, 344: 3.77, 345: 3.9, 346: 3.68, 347: 3.56, 348: 4.67, 349: 3.73, 350: 3.25, 351: 3.67, 352: 3.78, 353: 3.49, 354: 3.73, 355: 3.88, 356: 4.02, 357: 3.96, 358: 3.26, 359: 3.42, 360: 3.36, 361: 3.18, 362: 4.24, 363: 3.3, 364: 4.19, 365: 2.75, 366: 3.95, 367: 3.86, 368: 2.84, 369: 3.39, 370: 3.55, 371: 4.55, 372: 3.36, 373: 3.19, 374: 3.64, 375: 3.91, 376: 4.06, 377: 3.91, 378: 4.0, 379: 3.39, 380: 3.67, 381: 3.54, 382: 3.51, 383: 3.79, 384: 3.09, 385: 3.4, 386: 2.75, 387: 3.26, 388: 3.62, 389: 4.12, 390: 3.84, 391: 3.72, 392: 3.2, 393: 3.84, 394: 2.96, 395: 3.05, 396: 3.14, 397: 3.96, 398: 4.25, 399: 3.94, 400: 4.51, 401: 3.53, 402: 3.85, 403: 3.76, 404: 3.4, 405: 4.01, 406: 3.25, 407: 4.11, 408: 4.09, 409: 3.84, 410: 4.06, 411: 3.26, 412: 3.89, 413: 4.41, 414: 3.39, 415: 4.09, 416: 3.07, 417: 4.46, 418: 3.64, 419: 3.8, 420: 3.82, 421: 4.11, 422: 3.32, 423: 3.72, 424: 3.67, 425: 3.53, 426: 3.68, 427: 3.1, 428: 2.64, 429: 3.98, 430: 3.74, 431: 2.73, 432: 3.65, 433: 3.77, 434: 3.78, 435: 4.32, 436: 3.18, 437: 3.8, 438: 3.36, 439: 4.12, 440: 3.89, 441: 4.52, 442: 1.27, 443: 4.12, 444: 3.81, 445: 3.86, 446: 3.21, 447: 3.87, 448: 2.85, 449: 3.29, 450: 4.0, 451: 3.79, 452: 4.56, 453: 3.94, 454: 3.77, 455: 3.46, 456: 3.81, 457: 3.46, 458: 4.15, 459: 4.35, 460: 4.2, 461: 2.94, 462: 3.41, 463: 3.79, 464: 3.75, 465: 4.16, 466: 3.93, 467: 3.41, 468: 3.39, 469: 3.67, 470: 3.51, 471: 3.88, 472: 4.12, 473: 3.42, 474: 3.4, 475: 4.41, 476: 3.68, 477: 3.74, 478: 2.82, 479: 3.32, 480: 3.28, 481: 2.81, 482: 3.41, 483: 3.62, 484: 3.81, 485: 3.87, 486: 4.02, 487: 3.14, 488: 3.88, 489: 3.02, 490: 3.16, 491: 4.16, 492: 3.87, 493: 3.69, 494: 4.23, 495: 4.01, 496: 3.41, 497: 3.57, 498: 4.06, 499: 3.83, 500: 3.24, 501: 3.2, 502: 3.43, 503: 3.34, 504: 3.82, 505: 4.18, 506: 3.26, 507: 3.38, 508: 2.15, 509: 3.22, 510: 2.9, 511: 4.12, 512: 3.78, 513: 3.89, 514: 3.31, 515: 4.85, 516: 3.69, 517: 2.39, 518: 3.54, 519: 4.33, 520: 3.88, 521: 3.6, 522: 3.83, 523: 4.69, 524: 3.46, 525: 3.54, 526: 4.19, 527: 4.12, 528: 3.47, 529: 3.2, 530: 3.78, 531: 3.77, 532: 4.28, 533: 4.38, 534: 3.8, 535: 2.67, 536: 3.4, 537: 4.06, 538: 4.47, 539: 3.8, 540: 4.0, 541: 3.39, 542: 3.51, 543: 4.45, 544: 4.36, 545: 3.37, 546: 3.44, 547: 4.14, 548: 4.1, 549: 3.67, 550: 4.11, 551: 3.72, 552: 3.12, 553: 4.34, 554: 4.0, 555: 3.46, 556: 4.08, 557: 3.85, 558: 3.93, 559: 3.29, 560: 3.57, 561: 3.37, 562: 4.09, 563: 3.3, 564: 3.58, 565: 3.66, 566: 3.54, 567: 2.25, 568: 4.13, 569: 4.0, 570: 3.42, 571: 2.57, 572: 4.12, 573: 4.21, 574: 3.96, 575: 3.17, 576: 3.1, 577: 3.57, 578: 3.96, 579: 3.97, 580: 3.53, 581: 4.38, 582: 4.03, 583: 3.29, 584: 4.11, 585: 4.34, 586: 4.37, 587: 3.98, 588: 3.25, 589: 4.03, 590: 3.36, 591: 3.28, 592: 3.59, 593: 3.27, 594: 3.92, 595: 4.2, 596: 3.5, 597: 3.98, 598: 3.81, 599: 2.64, 600: 2.99, 601: 4.43, 602: 3.39, 603: 3.51, 604: 3.48, 605: 3.21, 606: 3.66, 607: 3.79, 608: 3.13, 609: 3.27, 610: 3.69}\n",
      "==========timeit==========\n",
      "67.07 ms ± 0 ns per loop (mean ± std. dev. of 1 run, 1 loop each)\n"
     ]
    }
   ],
   "source": [
    "%%timeit -n1 -r1 -p4\n",
    "output = ratings_object.users.dist_by_avrg_ratings(3, 'average')\n",
    "print(output)\n",
    "print('==========timeit==========')"
   ]
  },
  {
   "cell_type": "markdown",
   "metadata": {},
   "source": [
    "Топ пользователей по среднему рейтингу."
   ]
  },
  {
   "cell_type": "code",
   "execution_count": 88,
   "metadata": {},
   "outputs": [
    {
     "name": "stdout",
     "output_type": "stream",
     "text": [
      "{1: 4.5, 2: 4.0, 3: 4.0, 4: 4.0, 5: 3.0, 6: 3.0, 7: 4.25, 8: 4.0, 9: 1.0, 10: 3.25, 11: 4.0, 12: 4.25, 13: 3.0, 14: 2.5, 15: 3.0, 16: 4.0, 17: 3.5, 18: 3.75, 19: 4.0, 20: 2.0, 21: 4.0, 22: 3.5, 23: 3.5, 24: 4.25, 25: 5.0, 26: 4.0, 27: 2.0, 28: 2.0, 29: 3.0, 30: 5.0, 31: 5.0, 32: 3.5, 33: 4.5, 34: 4.25, 35: 4.0, 36: 2.0, 37: 4.0, 38: 3.5, 39: 3.5, 40: 5.0, 41: 4.5, 42: 5.0, 43: 4.0, 44: 3.5, 45: 3.0, 46: 4.0, 47: 4.0, 48: 5.0, 49: 4.0, 50: 1.75, 51: 3.5, 52: 4.5, 53: 5.0, 54: 4.0, 55: 3.5, 56: 3.5, 57: 3.0, 58: 5.0, 59: 5.0, 60: 4.0, 61: 5.0, 62: 3.75, 63: 3.0, 64: 3.0, 65: 4.0, 66: 4.0, 67: 4.0, 68: 3.25, 69: 4.5, 70: 4.25, 71: 1.0, 72: 3.5, 73: 4.5, 74: 4.0, 75: 4.0, 76: 1.5, 77: 2.5, 78: 3.0, 79: 5.0, 80: 5.0, 81: 3.5, 82: 1.5, 83: 3.75, 84: 3.0, 85: 2.0, 86: 3.75, 87: 3.0, 88: 4.75, 89: 4.25, 90: 3.5, 91: 3.5, 92: 4.0, 93: 5.0, 94: 4.0, 95: 4.5, 96: 4.5, 97: 4.0, 98: 3.0, 99: 4.0, 100: 4.25, 101: 4.0, 102: 3.0, 103: 5.0, 104: 3.5, 105: 3.5, 106: 5.0, 107: 3.5, 108: 3.5, 109: 3.0, 110: 1.5, 111: 3.75, 112: 0.5, 113: 4.5, 114: 4.5, 115: 5.0, 116: 3.5, 117: 3.0, 118: 5.0, 119: 3.0, 120: 3.5, 121: 3.5, 122: 5.0, 123: 4.25, 124: 3.25, 125: 2.75, 126: 2.0, 127: 1.5, 128: 5.0, 129: 3.5, 130: 3.0, 131: 2.5, 132: 3.5, 133: 3.0, 134: 4.0, 135: 4.0, 136: 4.0, 137: 3.0, 138: 3.0, 139: 1.75, 140: 4.75, 141: 2.5, 142: 4.0, 143: 3.0, 144: 4.0, 145: 3.0, 146: 2.25, 147: 3.5, 148: 3.5, 149: 3.0, 150: 4.0, 151: 1.0, 152: 3.5, 153: 2.5, 154: 5.0, 155: 3.5, 156: 3.5, 157: 2.0, 158: 3.5, 159: 4.0, 160: 3.0, 161: 3.0, 162: 4.5, 163: 3.0, 164: 3.0, 165: 5.0, 166: 4.0, 167: 3.0, 168: 2.0, 169: 4.0, 170: 2.5, 171: 4.5, 172: 3.0, 173: 5.0, 174: 3.0, 175: 4.75, 176: 3.5, 177: 4.5, 178: 5.0, 179: 3.0, 180: 3.5, 181: 3.0, 182: 4.0, 183: 5.0, 184: 4.75, 185: 4.0, 186: 3.5, 187: 4.25, 188: 4.0, 189: 4.0, 190: 4.25, 191: 5.0, 192: 3.5, 193: 5.0, 194: 3.75, 195: 3.0, 196: 4.25, 197: 3.0, 198: 3.5, 199: 3.0, 200: 4.5, 201: 3.0, 202: 4.0, 203: 5.0, 204: 4.0, 205: 3.5, 206: 5.0, 207: 2.0, 208: 3.0, 209: 5.0, 210: 2.75, 211: 2.0, 212: 3.75, 213: 3.5, 214: 3.0, 215: 4.25, 216: 4.0, 217: 3.0, 218: 3.0, 219: 2.5, 220: 4.0, 221: 4.0, 222: 2.75, 223: 3.5, 224: 5.0, 225: 4.0, 226: 4.0, 227: 3.75, 228: 4.0, 229: 4.0, 230: 4.0, 231: 4.0, 232: 3.25, 233: 3.25, 234: 3.5, 235: 5.0, 236: 4.5, 237: 3.5, 238: 4.5, 239: 4.0, 240: 4.0, 241: 4.0, 242: 5.0, 243: 3.5, 244: 5.0, 245: 2.0, 246: 4.75, 247: 3.0, 248: 4.0, 249: 3.5, 250: 3.0, 251: 5.0, 252: 4.25, 253: 3.5, 254: 4.5, 255: 3.0, 256: 4.25, 257: 3.5, 258: 4.5, 259: 3.0, 260: 4.75, 261: 2.5, 262: 3.0, 263: 4.0, 264: 4.25, 265: 3.0, 266: 3.0, 267: 5.0, 268: 3.0, 269: 3.0, 270: 3.0, 271: 3.5, 272: 2.5, 273: 4.0, 274: 3.0, 275: 4.0, 276: 3.0, 277: 3.5, 278: 3.5, 279: 2.75, 280: 3.0, 281: 3.0, 282: 4.5, 283: 3.0, 284: 3.5, 285: 3.25, 286: 4.0, 287: 2.0, 288: 3.0, 289: 3.5, 290: 4.0, 291: 5.0, 292: 3.5, 293: 3.0, 294: 1.0, 295: 5.0, 296: 5.0, 297: 2.0, 298: 2.5, 299: 4.0, 300: 4.75, 301: 3.25, 302: 3.0, 303: 3.0, 304: 4.0, 305: 5.0, 306: 3.75, 307: 3.0, 308: 3.0, 309: 4.5, 310: 3.25, 311: 2.25, 312: 3.0, 313: 2.5, 314: 2.5, 315: 3.0, 316: 3.0, 317: 5.0, 318: 4.0, 319: 4.0, 320: 3.5, 321: 3.0, 322: 2.0, 323: 3.25, 324: 1.0, 325: 4.5, 326: 4.25, 327: 3.5, 328: 5.0, 329: 2.0, 330: 4.0, 331: 3.75, 332: 3.5, 333: 3.0, 334: 3.5, 335: 2.75, 336: 4.25, 337: 5.0, 338: 1.5, 339: 3.0, 340: 5.0, 341: 3.5, 342: 3.0, 343: 5.0, 344: 2.5, 345: 4.0, 346: 3.75, 347: 4.0, 348: 5.0, 349: 4.0, 350: 3.0, 351: 4.5, 352: 3.25, 353: 4.5, 354: 4.25, 355: 4.5, 356: 4.5, 357: 4.0, 358: 5.0, 359: 4.5, 360: 5.0, 361: 4.0, 362: 4.0, 363: 4.5, 364: 4.0, 365: 2.0, 366: 4.0, 367: 4.0, 368: 4.0, 369: 2.5, 370: 4.0, 371: 5.0, 372: 3.0, 373: 3.0, 374: 3.0, 375: 4.0, 376: 4.0, 377: 4.0, 378: 4.25, 379: 3.0, 380: 3.0, 381: 3.75, 382: 3.0, 383: 4.5, 384: 3.0, 385: 5.0, 386: 3.5, 387: 3.5, 388: 2.5, 389: 4.5, 390: 1.5, 391: 4.5, 392: 4.0, 393: 5.0, 394: 4.0, 395: 3.0, 396: 2.75, 397: 2.5, 398: 4.25, 399: 5.0, 400: 4.5, 401: 3.25, 402: 4.0, 403: 2.25, 404: 3.0, 405: 4.25, 406: 1.25, 407: 5.0, 408: 4.0, 409: 3.0, 410: 5.0, 411: 3.0, 412: 5.0, 413: 5.0, 414: 3.5, 415: 4.0, 416: 4.0, 417: 5.0, 418: 2.0, 419: 3.5, 420: 4.0, 421: 3.5, 422: 2.0, 423: 2.0, 424: 4.0, 425: 3.0, 426: 4.0, 427: 3.0, 428: 1.75, 429: 4.5, 430: 2.5, 431: 2.25, 432: 3.5, 433: 4.0, 434: 3.0, 435: 4.25, 436: 3.0, 437: 3.5, 438: 4.5, 439: 4.0, 440: 4.5, 441: 4.5, 442: 1.5, 443: 4.0, 444: 3.5, 445: 3.5, 446: 3.0, 447: 4.0, 448: 3.0, 449: 4.25, 450: 4.0, 451: 5.0, 452: 4.5, 453: 5.0, 454: 2.5, 455: 4.0, 456: 4.0, 457: 3.5, 458: 4.0, 459: 4.0, 460: 4.75, 461: 4.0, 462: 3.0, 463: 3.0, 464: 3.5, 465: 4.0, 466: 4.0, 467: 3.5, 468: 4.0, 469: 5.0, 470: 4.0, 471: 3.0, 472: 3.0, 473: 4.0, 474: 3.0, 475: 4.5, 476: 3.0, 477: 4.0, 478: 3.0, 479: 5.0, 480: 2.5, 481: 2.0, 482: 3.5, 483: 4.5, 484: 4.0, 485: 3.0, 486: 3.5, 487: 2.25, 488: 4.5, 489: 2.25, 490: 3.5, 491: 4.25, 492: 4.0, 493: 2.0, 494: 5.0, 495: 2.5, 496: 4.0, 497: 2.5, 498: 2.0, 499: 4.0, 500: 4.0, 501: 2.0, 502: 3.0, 503: 4.0, 504: 4.0, 505: 5.0, 506: 3.25, 507: 4.0, 508: 2.0, 509: 2.5, 510: 3.25, 511: 4.75, 512: 3.0, 513: 2.75, 514: 4.0, 515: 5.0, 516: 3.0, 517: 3.0, 518: 4.25, 519: 4.5, 520: 3.25, 521: 4.0, 522: 3.5, 523: 4.5, 524: 4.0, 525: 3.75, 526: 4.25, 527: 4.0, 528: 2.5, 529: 4.0, 530: 4.0, 531: 3.5, 532: 4.0, 533: 5.0, 534: 3.75, 535: 2.0, 536: 4.0, 537: 5.0, 538: 5.0, 539: 3.75, 540: 4.25, 541: 3.0, 542: 0.5, 543: 5.0, 544: 4.5, 545: 4.0, 546: 2.5, 547: 5.0, 548: 5.0, 549: 3.0, 550: 4.25, 551: 4.0, 552: 1.5, 553: 5.0, 554: 3.0, 555: 4.5, 556: 3.25, 557: 4.0, 558: 4.5, 559: 2.5, 560: 3.0, 561: 4.0, 562: 3.5, 563: 3.5, 564: 3.5, 565: 4.0, 566: 3.0, 567: 2.0, 568: 4.0, 569: 4.0, 570: 4.0, 571: 2.0, 572: 5.0, 573: 4.0, 574: 4.0, 575: 2.0, 576: 4.0, 577: 3.0, 578: 5.0, 579: 4.0, 580: 2.75, 581: 4.75, 582: 5.0, 583: 3.5, 584: 3.0, 585: 4.0, 586: 4.25, 587: 5.0, 588: 2.5, 589: 4.5, 590: 3.5, 591: 3.5, 592: 4.0, 593: 1.5, 594: 4.0, 595: 2.5, 596: 2.5, 597: 5.0, 598: 5.0, 599: 2.0, 600: 4.5, 601: 4.5, 602: 3.0, 603: 3.0, 604: 4.5, 605: 3.5, 606: 4.0, 607: 4.0, 608: 3.0, 609: 3.0, 610: 3.5}\n",
      "==========timeit==========\n",
      "65.97 ms ± 0 ns per loop (mean ± std. dev. of 1 run, 1 loop each)\n"
     ]
    }
   ],
   "source": [
    "%%timeit -n1 -r1 -p4\n",
    "output = ratings_object.users.dist_by_avrg_ratings(3, 'median')\n",
    "print(output)\n",
    "print('==========timeit==========')"
   ]
  },
  {
   "cell_type": "markdown",
   "metadata": {},
   "source": [
    "Топ пользователей по медианному рейтингу."
   ]
  },
  {
   "cell_type": "markdown",
   "metadata": {},
   "source": [
    "### users.top_users_controversial"
   ]
  },
  {
   "cell_type": "markdown",
   "metadata": {},
   "source": [
    "Возвращает топ-n пользователей с наибольшей разницей в оценках."
   ]
  },
  {
   "cell_type": "code",
   "execution_count": 89,
   "metadata": {},
   "outputs": [
    {
     "name": "stdout",
     "output_type": "stream",
     "text": [
      "{3: 4.5, 7: 4.5, 10: 4.5}\n",
      "==========timeit==========\n",
      "69.89 ms ± 0 ns per loop (mean ± std. dev. of 1 run, 1 loop each)\n"
     ]
    }
   ],
   "source": [
    "%%timeit -n1 -r1 -p4\n",
    "output = ratings_object.users.top_users_controversial(3)\n",
    "print(output)\n",
    "print('==========timeit==========')"
   ]
  },
  {
   "cell_type": "markdown",
   "metadata": {},
   "source": [
    "## Ссылки. Links"
   ]
  },
  {
   "cell_type": "code",
   "execution_count": 90,
   "metadata": {},
   "outputs": [],
   "source": [
    "links_object = ma.Links('./data/links.csv')"
   ]
  },
  {
   "cell_type": "markdown",
   "metadata": {},
   "source": [
    "### get_imdb"
   ]
  },
  {
   "cell_type": "markdown",
   "metadata": {},
   "source": [
    "Метод возвращает список списков [movieId, поле1, поле2, поле3, ...] для списка фильмов,\n",
    "переданного в качестве аргумента (movieId).\n",
    "Например, [movieId, режиссёр, бюджет, совокупный мировой доход, продолжительность].\n",
    "Значения должны быть получены с веб-страниц фильмов на IMDB.\n",
    "Отсортируйте их по убыванию movieId."
   ]
  },
  {
   "cell_type": "code",
   "execution_count": 91,
   "metadata": {},
   "outputs": [
    {
     "name": "stdout",
     "output_type": "stream",
     "text": [
      "[[1, 'John Lasseter', ['John Lasseter', 'Pete Docter', 'Andrew Stanton'], '$30,000,000', '$394,436,586', '1 hour 21 minutes'], [2, 'Joe Johnston', ['Jonathan Hensleigh', 'Greg Taylor', 'Jim Strain'], '$65,000,000', '$262,821,940', '1 hour 44 minutes'], [3, 'Howard Deutch', 'Mark Steven Johnson', '$25,000,000', '$71,518,503', '1 hour 41 minutes']]\n",
      "==========timeit==========\n",
      "5.702 s ± 0 ns per loop (mean ± std. dev. of 1 run, 1 loop each)\n"
     ]
    }
   ],
   "source": [
    "%%timeit -n1 -r1 -p4\n",
    "imdb_info = links_object.get_imdb([1, 2, 3], ['director', 'writer', 'budget', 'gross worldwide', 'runtime'])\n",
    "print(imdb_info)\n",
    "print('==========timeit==========')"
   ]
  },
  {
   "cell_type": "markdown",
   "metadata": {},
   "source": [
    "Получаем информацию с сайта imdb о фильмах."
   ]
  },
  {
   "cell_type": "markdown",
   "metadata": {},
   "source": [
    "### top_directors"
   ]
  },
  {
   "cell_type": "markdown",
   "metadata": {},
   "source": [
    "Метод возвращает словарь с топ-n режиссёрами, где ключами являются режиссёры,\n",
    "а значениями — количество созданных ими фильмов.\n",
    "Отсортируйте его по убыванию значений."
   ]
  },
  {
   "cell_type": "code",
   "execution_count": 92,
   "metadata": {},
   "outputs": [
    {
     "name": "stdout",
     "output_type": "stream",
     "text": [
      "{'Johnny Manahan': 13154, 'Saibal Banerjee': 12613, 'Nivedita Basu': 12368}\n",
      "==========timeit==========\n",
      "13.51 s ± 0 ns per loop (mean ± std. dev. of 1 run, 1 loop each)\n"
     ]
    }
   ],
   "source": [
    "%%timeit -n1 -r1 -p4\n",
    "directors = links_object.top_directors(3)\n",
    "print(directors)\n",
    "print('==========timeit==========')"
   ]
  },
  {
   "cell_type": "markdown",
   "metadata": {},
   "source": [
    "Топ 3 режиссера по количеству снятых ими фильмов."
   ]
  },
  {
   "cell_type": "markdown",
   "metadata": {},
   "source": [
    "### most_expensive"
   ]
  },
  {
   "cell_type": "markdown",
   "metadata": {},
   "source": [
    "Метод возвращает словарь с топ-n фильмами, где ключами являются названия фильмов,\n",
    "а значениями — их бюджеты.\n",
    "Отсортируйте его по убыванию бюджетов."
   ]
  },
  {
   "cell_type": "code",
   "execution_count": 93,
   "metadata": {},
   "outputs": [
    {
     "name": "stdout",
     "output_type": "stream",
     "text": [
      "{'Джуманджи': '$65,000,000', 'История игрушек': '$30,000,000', 'Старые ворчуны разбушевались': '$25,000,000'}\n",
      "==========timeit==========\n",
      "3.446 s ± 0 ns per loop (mean ± std. dev. of 1 run, 1 loop each)\n"
     ]
    }
   ],
   "source": [
    "%%timeit -n1 -r1 -p4\n",
    "directors = links_object.most_expensive(3, 3)\n",
    "print(directors)\n",
    "print('==========timeit==========')"
   ]
  },
  {
   "cell_type": "markdown",
   "metadata": {},
   "source": [
    "Топ 3 фильма по бюджеты из трех первых фильмов в таблице данных."
   ]
  },
  {
   "cell_type": "markdown",
   "metadata": {},
   "source": [
    "### most_profitable"
   ]
  },
  {
   "cell_type": "markdown",
   "metadata": {},
   "source": [
    "Метод возвращает словарь с топ-n фильмами, где ключами являются названия фильмов,\n",
    "а значениями — разница между совокупным мировым доходом и бюджетом.\n",
    "Отсортируйте его по убыванию разницы."
   ]
  },
  {
   "cell_type": "code",
   "execution_count": 94,
   "metadata": {},
   "outputs": [
    {
     "name": "stdout",
     "output_type": "stream",
     "text": [
      "{'История игрушек': 364436586, 'Джуманджи': 197821940, 'Старые ворчуны разбушевались': 46518503}\n",
      "==========timeit==========\n",
      "3.932 s ± 0 ns per loop (mean ± std. dev. of 1 run, 1 loop each)\n"
     ]
    }
   ],
   "source": [
    "%%timeit -n1 -r1 -p4\n",
    "directors = links_object.most_profitable(3, 3)\n",
    "print(directors)\n",
    "print('==========timeit==========')"
   ]
  },
  {
   "cell_type": "markdown",
   "metadata": {},
   "source": [
    "Топ 3 фильмов по чистому доходу из трех первых фильмов в таблице данных."
   ]
  },
  {
   "cell_type": "markdown",
   "metadata": {},
   "source": [
    "### longes"
   ]
  },
  {
   "cell_type": "markdown",
   "metadata": {},
   "source": [
    "Метод возвращает словарь с топ-n фильмами, где ключами являются названия фильмов,\n",
    "а значениями — время их просмотра. Если есть несколько версий — выберите любую.\n",
    "Отсортируйте их по убыванию времени просмотра."
   ]
  },
  {
   "cell_type": "code",
   "execution_count": 95,
   "metadata": {},
   "outputs": [
    {
     "name": "stdout",
     "output_type": "stream",
     "text": [
      "{'Джуманджи': '1 hour 44 minutes', 'Старые ворчуны разбушевались': '1 hour 41 minutes', 'История игрушек': '1 hour 21 minutes'}\n",
      "==========timeit==========\n",
      "3.596 s ± 0 ns per loop (mean ± std. dev. of 1 run, 1 loop each)\n"
     ]
    }
   ],
   "source": [
    "%%timeit -n1 -r1 -p4\n",
    "directors = links_object.longes(3, 3)\n",
    "print(directors)\n",
    "print('==========timeit==========')"
   ]
  },
  {
   "cell_type": "markdown",
   "metadata": {},
   "source": [
    "Топ 3 фильма по длительности из первых трех фильмов из таблицы данных."
   ]
  },
  {
   "cell_type": "markdown",
   "metadata": {},
   "source": [
    "### top_cost_per_minute"
   ]
  },
  {
   "cell_type": "markdown",
   "metadata": {},
   "source": [
    "Метод возвращает словарь с топ-n фильмами, где ключами являются названия фильмов, а\n",
    "значениями — бюджеты, разделённые на продолжительность их показа. Бюджеты могут быть в разных валютах — не обращайте на это внимания.\n",
    "Значения должны быть округлены до 2 знаков после запятой. Отсортируйте их по убыванию."
   ]
  },
  {
   "cell_type": "code",
   "execution_count": 96,
   "metadata": {},
   "outputs": [
    {
     "name": "stdout",
     "output_type": "stream",
     "text": [
      "{'Джуманджи': 625000.0, 'История игрушек': 370370.37, 'Старые ворчуны разбушевались': 247524.75}\n",
      "==========timeit==========\n",
      "3.897 s ± 0 ns per loop (mean ± std. dev. of 1 run, 1 loop each)\n"
     ]
    }
   ],
   "source": [
    "%%timeit -n1 -r1 -p4\n",
    "directors = links_object.top_cost_per_minute(3, 3)\n",
    "print(directors)\n",
    "print('==========timeit==========')"
   ]
  },
  {
   "cell_type": "markdown",
   "metadata": {},
   "source": [
    "Топ 3 фильма по стоимости одной минуты фильма из первых трех фильмов из таблицы данных."
   ]
  },
  {
   "cell_type": "markdown",
   "metadata": {},
   "source": [
    "# Тесты"
   ]
  },
  {
   "cell_type": "code",
   "execution_count": 4,
   "metadata": {},
   "outputs": [],
   "source": [
    "tst = ma.Tests()\n",
    "tst.ratings_tests()\n",
    "tst.links_tests()\n",
    "tst.movies_tests()\n",
    "tst.tags_tests()"
   ]
  }
 ],
 "metadata": {
  "kernelspec": {
   "display_name": "Python 3",
   "language": "python",
   "name": "python3"
  },
  "language_info": {
   "codemirror_mode": {
    "name": "ipython",
    "version": 3
   },
   "file_extension": ".py",
   "mimetype": "text/x-python",
   "name": "python",
   "nbconvert_exporter": "python",
   "pygments_lexer": "ipython3",
   "version": "3.11.5"
  }
 },
 "nbformat": 4,
 "nbformat_minor": 2
}
